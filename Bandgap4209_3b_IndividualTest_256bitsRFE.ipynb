{
 "cells": [
  {
   "cell_type": "markdown",
   "metadata": {},
   "source": [
    "### Model Evaluation for Individual sets (4096 bits RFE to 256 bits) 80/20 split"
   ]
  },
  {
   "cell_type": "code",
   "execution_count": 1,
   "metadata": {},
   "outputs": [],
   "source": [
    "import numpy as np\n",
    "import pandas as pd\n",
    "import matplotlib.pyplot as plt\n",
    "import time\n",
    "\n",
    "# Model selection\n",
    "from sklearn.model_selection import train_test_split\n",
    "\n",
    "# metrics for regression\n",
    "from sklearn.metrics import mean_squared_error\n",
    "from sklearn.metrics import r2_score\n",
    "\n",
    "# Gradient boosting regressor\n",
    "import lightgbm as lgb"
   ]
  },
  {
   "cell_type": "code",
   "execution_count": 2,
   "metadata": {},
   "outputs": [
    {
     "name": "stdout",
     "output_type": "stream",
     "text": [
      "Runtime: 0.3054981231689453 s\n",
      "All dataset imported.\n"
     ]
    }
   ],
   "source": [
    "# Datasets with features\n",
    "start = time.time()\n",
    "\n",
    "data1 = pd.read_csv('Bandgap_avalon_256rfe.csv')\n",
    "data1 = data1.sort_values(by=[\"bandgap_chain\"], ascending=True, ignore_index=True)\n",
    "\n",
    "data2 = pd.read_csv('Bandgap_avalonc_256rfe.csv')\n",
    "data2 = data2.sort_values(by=[\"bandgap_chain\"], ascending=True, ignore_index=True)\n",
    "\n",
    "data3 = pd.read_csv('Bandgap_layered_256rfe.csv')\n",
    "data3 = data3.sort_values(by=[\"bandgap_chain\"], ascending=True, ignore_index=True)\n",
    "\n",
    "data4 = pd.read_csv('Bandgap_rdkitfp_256rfe.csv')\n",
    "data4 = data4.sort_values(by=[\"bandgap_chain\"], ascending=True, ignore_index=True)\n",
    "\n",
    "stop = time.time()\n",
    "runtime = stop - start\n",
    "\n",
    "print(f\"Runtime: {runtime} s\")\n",
    "print(\"All dataset imported.\")"
   ]
  },
  {
   "cell_type": "markdown",
   "metadata": {},
   "source": [
    "### Monte Carlo Cross-validation (MCCV) and Holdout function"
   ]
  },
  {
   "cell_type": "code",
   "execution_count": 3,
   "metadata": {},
   "outputs": [],
   "source": [
    "def train_model(dataX, permutation):\n",
    "    # dataX = dataset\n",
    "    \n",
    "    # Level1 Holdout validation #####################################################\n",
    "\n",
    "    training, testing = train_test_split(dataX, test_size=0.2, random_state=permutation)\n",
    "    \n",
    "    X_test = testing.iloc[:,2:].to_numpy()\n",
    "    Y_test = testing['bandgap_chain'].to_numpy()\n",
    "    \n",
    "    X_train = training.iloc[:,2:].to_numpy()\n",
    "    Y_train = training['bandgap_chain'].to_numpy()\n",
    "\n",
    "    reg_ = lgb.LGBMRegressor()\n",
    "    reg_.fit(X_train, Y_train)\n",
    "\n",
    "    Y_train_pred = reg_.predict(X_train)\n",
    "    Y_test_pred = reg_.predict(X_test)\n",
    "\n",
    "    Y_train_pred = reg_.predict(X_train)\n",
    "    RMSE_train = mean_squared_error(Y_train, Y_train_pred, squared = False)\n",
    "    R2_train = r2_score(Y_train, Y_train_pred)\n",
    "\n",
    "    Y_test_pred = reg_.predict(X_test)\n",
    "    RMSE_test = mean_squared_error(Y_test, Y_test_pred, squared = False)\n",
    "    R2_test = r2_score(Y_test, Y_test_pred)\n",
    "    \n",
    "    return RMSE_train, R2_train, RMSE_test, R2_test\n",
    "\n",
    "##########################################################################################################################\n",
    "\n",
    "def MCCV_scores(dataX): # Do 50 runs\n",
    "    start = time.time()\n",
    "    \n",
    "    RMSEscores_train = []\n",
    "    R2scores_train = []\n",
    "    RMSEscores_test = []\n",
    "    R2scores_test = []\n",
    "    \n",
    "    for p in range(50):    \n",
    "        RMSE_train, R2_train, RMSE_test, R2_test = train_model(dataX, p)\n",
    "        RMSEscores_train.append(RMSE_train)\n",
    "        R2scores_train.append(R2_train)\n",
    "        RMSEscores_test.append(RMSE_test)\n",
    "        R2scores_test.append(R2_test)\n",
    "    \n",
    "    stop = time.time()\n",
    "    runtime = stop - start\n",
    "    \n",
    "    print(f\"Runtime: {runtime} s\")\n",
    "    print()\n",
    "    print(\"Training set scores #########################################################################\")\n",
    "    best_rs_rmse_train = RMSEscores_train.index(np.min(RMSEscores_train)) # best random state for RMSE\n",
    "    print(\"Best random state with lowest RMSE:\", best_rs_rmse_train)\n",
    "    print(\"Min RMSE:\", np.min(RMSEscores_train))\n",
    "    print(\"Mean RMSE:\", np.mean(RMSEscores_train))\n",
    "    print(\"RMSE stdev:\", np.std(RMSEscores_train))\n",
    "    print()\n",
    "    best_rs_r2_train = R2scores_train.index(np.max(R2scores_train)) # best random state for R2\n",
    "    print(\"Best random state with highest r2:\", best_rs_r2_train)\n",
    "    print(\"Max R2:\", np.max(R2scores_train))\n",
    "    print(\"Mean R2:\", np.mean(R2scores_train))\n",
    "    \n",
    "    # Show RMSE and R2 for best random states\n",
    "    print()\n",
    "    print(\"Testing set scores ##########################################################################\")\n",
    "    best_rs_rmse_test = RMSEscores_test.index(np.min(RMSEscores_test)) # best random state for RMSE\n",
    "    print(\"Best random state with lowest RMSE:\", best_rs_rmse_test)\n",
    "    print(\"Min RMSE:\", np.min(RMSEscores_test))\n",
    "    print(\"Mean RMSE:\", np.mean(RMSEscores_test))\n",
    "    print(\"RMSE stdev:\", np.std(RMSEscores_test))\n",
    "    print()\n",
    "    best_rs_r2_test = R2scores_test.index(np.max(R2scores_test)) # best random state for R2\n",
    "    print(\"Best random state with highest r2:\", best_rs_r2_test)\n",
    "    print(\"Max R2:\", np.max(R2scores_test))\n",
    "    print(\"Mean R2:\", np.mean(R2scores_test))\n",
    "\n",
    "    return None"
   ]
  },
  {
   "cell_type": "markdown",
   "metadata": {},
   "source": [
    "### MCCV for 50 permutations for LightGBM"
   ]
  },
  {
   "cell_type": "code",
   "execution_count": 4,
   "metadata": {},
   "outputs": [
    {
     "name": "stdout",
     "output_type": "stream",
     "text": [
      "Runtime: 14.167711734771729 s\n",
      "\n",
      "Training set scores #########################################################################\n",
      "Best random state with lowest RMSE: 35\n",
      "Min RMSE: 0.36225769428582516\n",
      "Mean RMSE: 0.37339198506425647\n",
      "RMSE stdev: 0.005306061725014264\n",
      "\n",
      "Best random state with highest r2: 29\n",
      "Max R2: 0.9371967293006017\n",
      "Mean R2: 0.9331872611398516\n",
      "\n",
      "Testing set scores ##########################################################################\n",
      "Best random state with lowest RMSE: 43\n",
      "Min RMSE: 0.45216003121494386\n",
      "Mean RMSE: 0.5115246639230605\n",
      "RMSE stdev: 0.0339780190636956\n",
      "\n",
      "Best random state with highest r2: 4\n",
      "Max R2: 0.9007878010109404\n",
      "Mean R2: 0.8750144941760218\n"
     ]
    }
   ],
   "source": [
    "MCCV_scores(data1)"
   ]
  },
  {
   "cell_type": "code",
   "execution_count": 5,
   "metadata": {},
   "outputs": [
    {
     "name": "stdout",
     "output_type": "stream",
     "text": [
      "Runtime: 18.3161358833313 s\n",
      "\n",
      "Training set scores #########################################################################\n",
      "Best random state with lowest RMSE: 29\n",
      "Min RMSE: 0.334678524996724\n",
      "Mean RMSE: 0.3518737859079948\n",
      "RMSE stdev: 0.005203482301147933\n",
      "\n",
      "Best random state with highest r2: 29\n",
      "Max R2: 0.947022451940111\n",
      "Mean R2: 0.9406643502983353\n",
      "\n",
      "Testing set scores ##########################################################################\n",
      "Best random state with lowest RMSE: 9\n",
      "Min RMSE: 0.44627097542309985\n",
      "Mean RMSE: 0.5050118200168405\n",
      "RMSE stdev: 0.031526995691705056\n",
      "\n",
      "Best random state with highest r2: 9\n",
      "Max R2: 0.9032302056991479\n",
      "Mean R2: 0.8782148292703247\n"
     ]
    }
   ],
   "source": [
    "MCCV_scores(data2)"
   ]
  },
  {
   "cell_type": "code",
   "execution_count": 6,
   "metadata": {},
   "outputs": [
    {
     "name": "stdout",
     "output_type": "stream",
     "text": [
      "Runtime: 13.639581441879272 s\n",
      "\n",
      "Training set scores #########################################################################\n",
      "Best random state with lowest RMSE: 29\n",
      "Min RMSE: 0.31096285081109787\n",
      "Mean RMSE: 0.3198195483635803\n",
      "RMSE stdev: 0.003643123504764943\n",
      "\n",
      "Best random state with highest r2: 29\n",
      "Max R2: 0.9542645264891039\n",
      "Mean R2: 0.9509864231259225\n",
      "\n",
      "Testing set scores ##########################################################################\n",
      "Best random state with lowest RMSE: 43\n",
      "Min RMSE: 0.43701691187129443\n",
      "Mean RMSE: 0.4851016359672559\n",
      "RMSE stdev: 0.029946418968051173\n",
      "\n",
      "Best random state with highest r2: 43\n",
      "Max R2: 0.9071403381701906\n",
      "Mean R2: 0.8875862017107715\n"
     ]
    }
   ],
   "source": [
    "MCCV_scores(data3)"
   ]
  },
  {
   "cell_type": "code",
   "execution_count": 7,
   "metadata": {},
   "outputs": [
    {
     "name": "stdout",
     "output_type": "stream",
     "text": [
      "Runtime: 13.686189889907837 s\n",
      "\n",
      "Training set scores #########################################################################\n",
      "Best random state with lowest RMSE: 38\n",
      "Min RMSE: 0.29579682104665556\n",
      "Mean RMSE: 0.3086371834442329\n",
      "RMSE stdev: 0.004056261554455113\n",
      "\n",
      "Best random state with highest r2: 38\n",
      "Max R2: 0.958029590069773\n",
      "Mean R2: 0.9543516443923338\n",
      "\n",
      "Testing set scores ##########################################################################\n",
      "Best random state with lowest RMSE: 43\n",
      "Min RMSE: 0.43653568939064485\n",
      "Mean RMSE: 0.4863023822519655\n",
      "RMSE stdev: 0.029066673659192733\n",
      "\n",
      "Best random state with highest r2: 43\n",
      "Max R2: 0.9073447309634997\n",
      "Mean R2: 0.8870672244042832\n"
     ]
    }
   ],
   "source": [
    "MCCV_scores(data4)"
   ]
  }
 ],
 "metadata": {
  "kernelspec": {
   "display_name": "Python 3",
   "language": "python",
   "name": "python3"
  },
  "language_info": {
   "codemirror_mode": {
    "name": "ipython",
    "version": 3
   },
   "file_extension": ".py",
   "mimetype": "text/x-python",
   "name": "python",
   "nbconvert_exporter": "python",
   "pygments_lexer": "ipython3",
   "version": "3.8.8"
  }
 },
 "nbformat": 4,
 "nbformat_minor": 4
}
