{
 "cells": [
  {
   "cell_type": "markdown",
   "metadata": {},
   "source": [
    "### Model Evaluation for Individual sets (4096 bits) 80/20 split"
   ]
  },
  {
   "cell_type": "code",
   "execution_count": 1,
   "metadata": {},
   "outputs": [],
   "source": [
    "import numpy as np\n",
    "import pandas as pd\n",
    "import matplotlib.pyplot as plt\n",
    "import time\n",
    "\n",
    "# Model selection\n",
    "from sklearn.model_selection import train_test_split\n",
    "\n",
    "# metrics for regression\n",
    "from sklearn.metrics import mean_squared_error\n",
    "from sklearn.metrics import r2_score\n",
    "\n",
    "# Gradient boosting regressor\n",
    "import lightgbm as lgb"
   ]
  },
  {
   "cell_type": "code",
   "execution_count": 2,
   "metadata": {},
   "outputs": [
    {
     "name": "stdout",
     "output_type": "stream",
     "text": [
      "Runtime: 9.096773624420166 s\n",
      "All dataset imported.\n"
     ]
    }
   ],
   "source": [
    "# Datasets with features\n",
    "start = time.time()\n",
    "\n",
    "data1 = pd.read_csv('Bandgap_avalon_4096.csv')\n",
    "data1 = data1.sort_values(by=[\"bandgap_chain\"], ascending=True, ignore_index=True)\n",
    "\n",
    "data2 = pd.read_csv('Bandgap_avalonc_4096.csv')\n",
    "data2 = data2.sort_values(by=[\"bandgap_chain\"], ascending=True, ignore_index=True)\n",
    "\n",
    "data3 = pd.read_csv('Bandgap_layered_4096.csv')\n",
    "data3 = data3.sort_values(by=[\"bandgap_chain\"], ascending=True, ignore_index=True)\n",
    "\n",
    "data4 = pd.read_csv('Bandgap_rdkitfp_4096.csv')\n",
    "data4 = data4.sort_values(by=[\"bandgap_chain\"], ascending=True, ignore_index=True)\n",
    "\n",
    "stop = time.time()\n",
    "runtime = stop - start\n",
    "\n",
    "print(f\"Runtime: {runtime} s\")\n",
    "print(\"All dataset imported.\")"
   ]
  },
  {
   "cell_type": "markdown",
   "metadata": {},
   "source": [
    "### Monte Carlo Cross-validation (MCCV) and Holdout function\n",
    "\n",
    "https://en.wikipedia.org/wiki/Cross-validation_(statistics)#Holdout_method"
   ]
  },
  {
   "cell_type": "code",
   "execution_count": 3,
   "metadata": {},
   "outputs": [],
   "source": [
    "def train_model(dataX, permutation):\n",
    "    # dataX = dataset\n",
    "    \n",
    "    # Level1 Holdout validation #####################################################\n",
    "\n",
    "    training, testing = train_test_split(dataX, test_size=0.2, random_state=permutation)\n",
    "    \n",
    "    X_test = testing.iloc[:,2:].to_numpy()\n",
    "    Y_test = testing['bandgap_chain'].to_numpy()\n",
    "    \n",
    "    X_train = training.iloc[:,2:].to_numpy()\n",
    "    Y_train = training['bandgap_chain'].to_numpy()\n",
    "\n",
    "    reg_ = lgb.LGBMRegressor()\n",
    "    reg_.fit(X_train, Y_train)\n",
    "\n",
    "    Y_train_pred = reg_.predict(X_train)\n",
    "    Y_test_pred = reg_.predict(X_test)\n",
    "\n",
    "    Y_train_pred = reg_.predict(X_train)\n",
    "    RMSE_train = mean_squared_error(Y_train, Y_train_pred, squared = False)\n",
    "    R2_train = r2_score(Y_train, Y_train_pred)\n",
    "\n",
    "    Y_test_pred = reg_.predict(X_test)\n",
    "    RMSE_test = mean_squared_error(Y_test, Y_test_pred, squared = False)\n",
    "    R2_test = r2_score(Y_test, Y_test_pred)\n",
    "    \n",
    "    return RMSE_train, R2_train, RMSE_test, R2_test\n",
    "\n",
    "##########################################################################################################################\n",
    "\n",
    "def MCCV_scores(dataX): # Do 50 runs\n",
    "    start = time.time()\n",
    "    \n",
    "    RMSEscores_train = []\n",
    "    R2scores_train = []\n",
    "    RMSEscores_test = []\n",
    "    R2scores_test = []\n",
    "    \n",
    "    for p in range(50):    \n",
    "        RMSE_train, R2_train, RMSE_test, R2_test = train_model(dataX, p)\n",
    "        RMSEscores_train.append(RMSE_train)\n",
    "        R2scores_train.append(R2_train)\n",
    "        RMSEscores_test.append(RMSE_test)\n",
    "        R2scores_test.append(R2_test)\n",
    "    \n",
    "    stop = time.time()\n",
    "    runtime = stop - start\n",
    "    \n",
    "    print(f\"Runtime: {runtime} s\")\n",
    "    print()\n",
    "    print(\"Training set scores #########################################################################\")\n",
    "    best_rs_rmse_train = RMSEscores_train.index(np.min(RMSEscores_train)) # best random state for RMSE\n",
    "    print(\"Best random state with lowest RMSE:\", best_rs_rmse_train)\n",
    "    print(\"Min RMSE:\", np.min(RMSEscores_train))\n",
    "    print(\"Mean RMSE:\", np.mean(RMSEscores_train))\n",
    "    print()\n",
    "    best_rs_r2_train = R2scores_train.index(np.max(R2scores_train)) # best random state for R2\n",
    "    print(\"Best random state with highest r2:\", best_rs_r2_train)\n",
    "    print(\"Max R2:\", np.max(R2scores_train))\n",
    "    print(\"Mean R2:\", np.mean(R2scores_train))\n",
    "    \n",
    "    # Show RMSE and R2 for best random states\n",
    "    print()\n",
    "    print(\"Testing set scores ##########################################################################\")\n",
    "    best_rs_rmse_test = RMSEscores_test.index(np.min(RMSEscores_test)) # best random state for RMSE\n",
    "    print(\"Best random state with lowest RMSE:\", best_rs_rmse_test)\n",
    "    print(\"Min RMSE:\", np.min(RMSEscores_test))\n",
    "    print(\"Mean RMSE:\", np.mean(RMSEscores_test))\n",
    "    print()\n",
    "    best_rs_r2_test = R2scores_test.index(np.max(R2scores_test)) # best random state for R2\n",
    "    print(\"Best random state with highest r2:\", best_rs_r2_test)\n",
    "    print(\"Max R2:\", np.max(R2scores_test))\n",
    "    print(\"Mean R2:\", np.mean(R2scores_test))\n",
    "\n",
    "    return None"
   ]
  },
  {
   "cell_type": "markdown",
   "metadata": {},
   "source": [
    "### MCCV for 50 permutations for LightGBM"
   ]
  },
  {
   "cell_type": "code",
   "execution_count": 4,
   "metadata": {},
   "outputs": [
    {
     "name": "stdout",
     "output_type": "stream",
     "text": [
      "Runtime: 75.32016015052795 s\n",
      "\n",
      "Training set scores #########################################################################\n",
      "Best random state with lowest RMSE: 41\n",
      "Min RMSE: 0.3544269242692659\n",
      "Mean RMSE: 0.3657090435160588\n",
      "\n",
      "Best random state with highest r2: 29\n",
      "Max R2: 0.9404425880989973\n",
      "Mean R2: 0.9359067236857642\n",
      "\n",
      "Testing set scores ##########################################################################\n",
      "Best random state with lowest RMSE: 9\n",
      "Min RMSE: 0.45800221085854115\n",
      "Mean RMSE: 0.5232418478043187\n",
      "\n",
      "Best random state with highest r2: 9\n",
      "Max R2: 0.8980757128948389\n",
      "Mean R2: 0.8692567552567947\n"
     ]
    }
   ],
   "source": [
    "MCCV_scores(data1)"
   ]
  },
  {
   "cell_type": "code",
   "execution_count": 5,
   "metadata": {},
   "outputs": [
    {
     "name": "stdout",
     "output_type": "stream",
     "text": [
      "Runtime: 87.11384987831116 s\n",
      "\n",
      "Training set scores #########################################################################\n",
      "Best random state with lowest RMSE: 29\n",
      "Min RMSE: 0.33118163127745476\n",
      "Mean RMSE: 0.3477666546547582\n",
      "\n",
      "Best random state with highest r2: 29\n",
      "Max R2: 0.9481237417556079\n",
      "Mean R2: 0.9420404384032589\n",
      "\n",
      "Testing set scores ##########################################################################\n",
      "Best random state with lowest RMSE: 9\n",
      "Min RMSE: 0.4467044587326493\n",
      "Mean RMSE: 0.5142894102825067\n",
      "\n",
      "Best random state with highest r2: 9\n",
      "Max R2: 0.9030421205847037\n",
      "Mean R2: 0.873698969790941\n"
     ]
    }
   ],
   "source": [
    "MCCV_scores(data2)"
   ]
  },
  {
   "cell_type": "code",
   "execution_count": 6,
   "metadata": {},
   "outputs": [
    {
     "name": "stdout",
     "output_type": "stream",
     "text": [
      "Runtime: 103.20585799217224 s\n",
      "\n",
      "Training set scores #########################################################################\n",
      "Best random state with lowest RMSE: 18\n",
      "Min RMSE: 0.2918767440921636\n",
      "Mean RMSE: 0.29956470695314635\n",
      "\n",
      "Best random state with highest r2: 29\n",
      "Max R2: 0.9591091412219314\n",
      "Mean R2: 0.9569969479771063\n",
      "\n",
      "Testing set scores ##########################################################################\n",
      "Best random state with lowest RMSE: 43\n",
      "Min RMSE: 0.4401156628362375\n",
      "Mean RMSE: 0.5055746936179998\n",
      "\n",
      "Best random state with highest r2: 43\n",
      "Max R2: 0.9058187914379847\n",
      "Mean R2: 0.8778840038037424\n"
     ]
    }
   ],
   "source": [
    "MCCV_scores(data3)"
   ]
  },
  {
   "cell_type": "code",
   "execution_count": 7,
   "metadata": {},
   "outputs": [
    {
     "name": "stdout",
     "output_type": "stream",
     "text": [
      "Runtime: 124.42845559120178 s\n",
      "\n",
      "Training set scores #########################################################################\n",
      "Best random state with lowest RMSE: 38\n",
      "Min RMSE: 0.26891265863741165\n",
      "Mean RMSE: 0.279189855829641\n",
      "\n",
      "Best random state with highest r2: 29\n",
      "Max R2: 0.9656057374486416\n",
      "Mean R2: 0.9626456957050066\n",
      "\n",
      "Testing set scores ##########################################################################\n",
      "Best random state with lowest RMSE: 43\n",
      "Min RMSE: 0.4514898349912358\n",
      "Mean RMSE: 0.5112170016247719\n",
      "\n",
      "Best random state with highest r2: 43\n",
      "Max R2: 0.9008879260652289\n",
      "Mean R2: 0.8751721762321831\n"
     ]
    }
   ],
   "source": [
    "MCCV_scores(data4)"
   ]
  }
 ],
 "metadata": {
  "kernelspec": {
   "display_name": "Python 3",
   "language": "python",
   "name": "python3"
  },
  "language_info": {
   "codemirror_mode": {
    "name": "ipython",
    "version": 3
   },
   "file_extension": ".py",
   "mimetype": "text/x-python",
   "name": "python",
   "nbconvert_exporter": "python",
   "pygments_lexer": "ipython3",
   "version": "3.8.8"
  }
 },
 "nbformat": 4,
 "nbformat_minor": 4
}
