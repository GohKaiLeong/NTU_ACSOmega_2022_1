{
 "cells": [
  {
   "cell_type": "markdown",
   "metadata": {
    "id": "EwyZ-3OAZVc5"
   },
   "source": [
    "### Model Evaluation for LGB-Stack"
   ]
  },
  {
   "cell_type": "code",
   "execution_count": 1,
   "metadata": {
    "executionInfo": {
     "elapsed": 825,
     "status": "ok",
     "timestamp": 1641535350879,
     "user": {
      "displayName": "K L Goh",
      "photoUrl": "https://lh3.googleusercontent.com/a-/AOh14Gixm2uw9BNIQpb-i3CMDQY7kXzZRXLWKHs4BZ23zg=s64",
      "userId": "16926301364526403918"
     },
     "user_tz": -480
    },
    "id": "vWRhsYrGZVdE"
   },
   "outputs": [],
   "source": [
    "import numpy as np\n",
    "import pandas as pd\n",
    "import time\n",
    "\n",
    "# Model selection\n",
    "from sklearn.model_selection import train_test_split\n",
    "\n",
    "# metrics for regression\n",
    "from sklearn.metrics import mean_squared_error\n",
    "from sklearn.metrics import r2_score\n",
    "\n",
    "# Regressors\n",
    "import lightgbm as lgb"
   ]
  },
  {
   "cell_type": "code",
   "execution_count": 2,
   "metadata": {
    "colab": {
     "base_uri": "https://localhost:8080/"
    },
    "executionInfo": {
     "elapsed": 291133,
     "status": "ok",
     "timestamp": 1641535642008,
     "user": {
      "displayName": "K L Goh",
      "photoUrl": "https://lh3.googleusercontent.com/a-/AOh14Gixm2uw9BNIQpb-i3CMDQY7kXzZRXLWKHs4BZ23zg=s64",
      "userId": "16926301364526403918"
     },
     "user_tz": -480
    },
    "id": "F3W_DSmnZVdH",
    "outputId": "1cf200b7-55dc-4951-ae42-02ca0f1aab8d"
   },
   "outputs": [
    {
     "name": "stdout",
     "output_type": "stream",
     "text": [
      "Runtime: 1.0938231945037842 s\n",
      "All dataset imported.\n"
     ]
    }
   ],
   "source": [
    "start = time.time()\n",
    "\n",
    "# Original data without any features\n",
    "data0 = pd.read_excel('Bandgap_chain4209.xlsx')\n",
    "data0 = data0.sort_values(by=[\"bandgap_chain\"], ascending=True, ignore_index=True)\n",
    "\n",
    "# Datasets with features\n",
    "data1 = pd.read_csv('Bandgap_avalon_256rfe.csv')\n",
    "data1 = data1.sort_values(by=[\"bandgap_chain\"], ascending=True, ignore_index=True)\n",
    "\n",
    "data2 = pd.read_csv('Bandgap_avalonc_256rfe.csv')\n",
    "data2 = data2.sort_values(by=[\"bandgap_chain\"], ascending=True, ignore_index=True)\n",
    "\n",
    "data3 = pd.read_csv('Bandgap_layered_512rfe.csv')\n",
    "data3 = data3.sort_values(by=[\"bandgap_chain\"], ascending=True, ignore_index=True)\n",
    "\n",
    "data4 = pd.read_csv('Bandgap_rdkitfp_512rfe.csv')\n",
    "data4 = data4.sort_values(by=[\"bandgap_chain\"], ascending=True, ignore_index=True)\n",
    "\n",
    "stop = time.time()\n",
    "runtime = stop - start\n",
    "\n",
    "print(f\"Runtime: {runtime} s\")\n",
    "print(\"All dataset imported.\")"
   ]
  },
  {
   "cell_type": "markdown",
   "metadata": {
    "id": "8-YSXjTQZVdM"
   },
   "source": [
    "### Functions for stacking regression\n",
    "\n",
    "From level 1 to level 2. Can also set the number of pseudo random permutations"
   ]
  },
  {
   "cell_type": "code",
   "execution_count": 3,
   "metadata": {
    "executionInfo": {
     "elapsed": 36,
     "status": "ok",
     "timestamp": 1641535642010,
     "user": {
      "displayName": "K L Goh",
      "photoUrl": "https://lh3.googleusercontent.com/a-/AOh14Gixm2uw9BNIQpb-i3CMDQY7kXzZRXLWKHs4BZ23zg=s64",
      "userId": "16926301364526403918"
     },
     "user_tz": -480
    },
    "id": "bZqyZzs6ZVdO"
   },
   "outputs": [],
   "source": [
    "def train_weak_model(size, permutation, dataX, feature): ### start with training the weak models\n",
    "    # dataX = dataset\n",
    "    \n",
    "    # Level1 Holdout validation #####################################################\n",
    "    training, testing = train_test_split(dataX, test_size=size, random_state=permutation)\n",
    "    \n",
    "    X_test = testing.iloc[:,2:].to_numpy()\n",
    "    Y_test = testing['bandgap_chain'].to_numpy()\n",
    "    \n",
    "    X_train = training.iloc[:,2:].to_numpy()\n",
    "    Y_train = training['bandgap_chain'].to_numpy()\n",
    "\n",
    "    reg_ = lgb.LGBMRegressor()\n",
    "    reg_.fit(X_train, Y_train)\n",
    "\n",
    "    Y_train_pred = reg_.predict(X_train)\n",
    "    Y_test_pred = reg_.predict(X_test)\n",
    "\n",
    "    newtest = testing.iloc[:,:2].reset_index(drop=True)\n",
    "    newtest[feature] = pd.Series(Y_test_pred)\n",
    "\n",
    "    newtrain = training.iloc[:,:2].reset_index(drop=True)\n",
    "    newtrain[feature] = pd.Series(Y_train_pred)\n",
    "\n",
    "    newdata = pd.concat([newtrain, newtest], axis=0).reset_index(drop=True)\n",
    "    newdata = newdata.sort_values(by=[\"bandgap_chain\"], ascending=True, ignore_index=True)\n",
    "\n",
    "    return newdata"
   ]
  },
  {
   "cell_type": "code",
   "execution_count": 4,
   "metadata": {
    "executionInfo": {
     "elapsed": 469,
     "status": "ok",
     "timestamp": 1641535747073,
     "user": {
      "displayName": "K L Goh",
      "photoUrl": "https://lh3.googleusercontent.com/a-/AOh14Gixm2uw9BNIQpb-i3CMDQY7kXzZRXLWKHs4BZ23zg=s64",
      "userId": "16926301364526403918"
     },
     "user_tz": -480
    },
    "id": "lFEtOyctZVdS"
   },
   "outputs": [],
   "source": [
    "def train_final_model(size, permutation): ### Training the final strong model\n",
    "\n",
    "    # Get the weak models ###########################################\n",
    "    newdata1 = train_weak_model(size, permutation, data1, 'Avalon_L')\n",
    "    newdata2 = train_weak_model(size, permutation, data2, 'AvalonC_L')\n",
    "    newdata3 = train_weak_model(size, permutation, data3, 'Layered_L')\n",
    "    newdata4 = train_weak_model(size, permutation, data4, 'RDK_L')    \n",
    "    \n",
    "    \n",
    "    newfinal = pd.concat([data0, newdata1.iloc[:,2],\n",
    "                          newdata2.iloc[:,2],\n",
    "                          newdata3.iloc[:,2],\n",
    "                          newdata4.iloc[:,2],\n",
    "                          ], axis=1).reset_index(drop=True)\n",
    "    \n",
    "    #print(newfinal.head())\n",
    "    #print()\n",
    "    # Train the final models\n",
    "        \n",
    "    finaltrain, finaltest = train_test_split(newfinal, test_size=size, random_state=permutation)\n",
    "    \n",
    "    final_X_train = finaltrain.iloc[:,2:].to_numpy()\n",
    "    final_Y_train = finaltrain['bandgap_chain'].to_numpy()\n",
    "    \n",
    "    final_X_test = finaltest.iloc[:,2:].to_numpy()\n",
    "    final_Y_test = finaltest['bandgap_chain'].to_numpy()\n",
    "\n",
    "    regressor = lgb.LGBMRegressor()\n",
    "    \n",
    "    reg_ = regressor\n",
    "    reg_.fit(final_X_train, final_Y_train)\n",
    "\n",
    "    final_Y_train_pred = reg_.predict(final_X_train)\n",
    "    final_RMSE_train = mean_squared_error(final_Y_train, final_Y_train_pred, squared = False)\n",
    "    final_R2_train = r2_score(final_Y_train, final_Y_train_pred)\n",
    "\n",
    "    final_Y_test_pred = reg_.predict(final_X_test)\n",
    "    final_RMSE_test = mean_squared_error(final_Y_test, final_Y_test_pred, squared = False)\n",
    "    final_R2_test = r2_score(final_Y_test, final_Y_test_pred)\n",
    "    \n",
    "    return final_RMSE_train, final_R2_train, final_RMSE_test, final_R2_test"
   ]
  },
  {
   "cell_type": "code",
   "execution_count": 5,
   "metadata": {
    "colab": {
     "base_uri": "https://localhost:8080/"
    },
    "executionInfo": {
     "elapsed": 24299,
     "status": "ok",
     "timestamp": 1641535775132,
     "user": {
      "displayName": "K L Goh",
      "photoUrl": "https://lh3.googleusercontent.com/a-/AOh14Gixm2uw9BNIQpb-i3CMDQY7kXzZRXLWKHs4BZ23zg=s64",
      "userId": "16926301364526403918"
     },
     "user_tz": -480
    },
    "id": "7XRKO09Y5Kq2",
    "outputId": "d1e16431-6ab7-4d7e-ad1c-8704fb94ec26"
   },
   "outputs": [
    {
     "data": {
      "text/plain": [
       "(0.2212272563570638,\n",
       " 0.9774203619931507,\n",
       " 0.6361552378732681,\n",
       " 0.8056143120348453)"
      ]
     },
     "execution_count": 5,
     "metadata": {},
     "output_type": "execute_result"
    }
   ],
   "source": [
    "# Test one instance\n",
    "\n",
    "train_final_model(0.9, 47)"
   ]
  },
  {
   "cell_type": "markdown",
   "metadata": {
    "id": "MpDj98ufZVdW"
   },
   "source": [
    "### Monte Carlo Cross-validation"
   ]
  },
  {
   "cell_type": "code",
   "execution_count": 6,
   "metadata": {
    "executionInfo": {
     "elapsed": 14,
     "status": "aborted",
     "timestamp": 1641535642013,
     "user": {
      "displayName": "K L Goh",
      "photoUrl": "https://lh3.googleusercontent.com/a-/AOh14Gixm2uw9BNIQpb-i3CMDQY7kXzZRXLWKHs4BZ23zg=s64",
      "userId": "16926301364526403918"
     },
     "user_tz": -480
    },
    "id": "I2xcagH3ZVdY"
   },
   "outputs": [],
   "source": [
    "def MCCV_scores(size):\n",
    "    start = time.time()\n",
    "    \n",
    "    RMSEscores_train = []\n",
    "    R2scores_train = []\n",
    "    RMSEscores_test = []\n",
    "    R2scores_test = []\n",
    "    \n",
    "    for p in range(50):    \n",
    "        final_RMSE_train, final_R2_train, final_RMSE_test, final_R2_test = train_final_model(size, p)\n",
    "        RMSEscores_train.append(final_RMSE_train)\n",
    "        R2scores_train.append(final_R2_train)\n",
    "        RMSEscores_test.append(final_RMSE_test)\n",
    "        R2scores_test.append(final_R2_test)\n",
    "    \n",
    "    stop = time.time()\n",
    "    runtime = stop - start\n",
    "    \n",
    "    print(f\"Runtime: {runtime} s\")\n",
    "    print()\n",
    "    print(\"MCCV aggregation results ###############################################################\")\n",
    "    print()\n",
    "    print(\"Training set scores #########################################################################\")\n",
    "    best_rs_rmse_train = RMSEscores_train.index(np.min(RMSEscores_train)) # best random state for RMSE\n",
    "    print(\"Best random state with lowest RMSE:\", best_rs_rmse_train)\n",
    "    print(\"Min RMSE:\", np.min(RMSEscores_train))\n",
    "    print(\"Mean RMSE:\", np.mean(RMSEscores_train))\n",
    "    print()\n",
    "    best_rs_r2_train = R2scores_train.index(np.max(R2scores_train)) # best random state for R2\n",
    "    print(\"Best random state with highest r2:\", best_rs_r2_train)\n",
    "    print(\"Max R2:\", np.max(R2scores_train))\n",
    "    print(\"Mean R2:\", np.mean(R2scores_train))\n",
    "    \n",
    "    # Show RMSE and R2 for best random states\n",
    "    print()\n",
    "    print(\"Testing set scores ##########################################################################\")\n",
    "    best_rs_rmse_test = RMSEscores_test.index(np.min(RMSEscores_test)) # best random state for RMSE\n",
    "    print(\"Best random state with lowest RMSE:\", best_rs_rmse_test)\n",
    "    print(\"Min RMSE:\", np.min(RMSEscores_test))\n",
    "    print(\"Mean RMSE:\", np.mean(RMSEscores_test))\n",
    "    print()\n",
    "    best_rs_r2_test = R2scores_test.index(np.max(R2scores_test)) # best random state for R2\n",
    "    print(\"Best random state with highest r2:\", best_rs_r2_test)\n",
    "    print(\"Max R2:\", np.max(R2scores_test))\n",
    "    print(\"Mean R2:\", np.mean(R2scores_test))\n",
    "\n",
    "    return None"
   ]
  },
  {
   "cell_type": "markdown",
   "metadata": {
    "id": "eclf7nn9ZVdd"
   },
   "source": [
    "### MCCV for the various train-test splits"
   ]
  },
  {
   "cell_type": "code",
   "execution_count": 7,
   "metadata": {
    "executionInfo": {
     "elapsed": 15,
     "status": "aborted",
     "timestamp": 1641535642014,
     "user": {
      "displayName": "K L Goh",
      "photoUrl": "https://lh3.googleusercontent.com/a-/AOh14Gixm2uw9BNIQpb-i3CMDQY7kXzZRXLWKHs4BZ23zg=s64",
      "userId": "16926301364526403918"
     },
     "user_tz": -480
    },
    "id": "mcm-h89SZVdf"
   },
   "outputs": [
    {
     "name": "stdout",
     "output_type": "stream",
     "text": [
      "Runtime: 35.159157514572144 s\n",
      "\n",
      "MCCV aggregation results ###############################################################\n",
      "\n",
      "Training set scores #########################################################################\n",
      "Best random state with lowest RMSE: 28\n",
      "Min RMSE: 0.16265882470920795\n",
      "Mean RMSE: 0.20883122948686558\n",
      "\n",
      "Best random state with highest r2: 41\n",
      "Max R2: 0.9873852586954673\n",
      "Mean R2: 0.9788287482861532\n",
      "\n",
      "Testing set scores ##########################################################################\n",
      "Best random state with lowest RMSE: 32\n",
      "Min RMSE: 0.6304789675127996\n",
      "Mean RMSE: 0.6607105100439199\n",
      "\n",
      "Best random state with highest r2: 32\n",
      "Max R2: 0.8090624130550512\n",
      "Mean R2: 0.7911082073907346\n"
     ]
    }
   ],
   "source": [
    "# 10:90 split\n",
    "MCCV_scores(0.9)"
   ]
  },
  {
   "cell_type": "code",
   "execution_count": 8,
   "metadata": {},
   "outputs": [
    {
     "name": "stdout",
     "output_type": "stream",
     "text": [
      "Runtime: 57.496675968170166 s\n",
      "\n",
      "MCCV aggregation results ###############################################################\n",
      "\n",
      "Training set scores #########################################################################\n",
      "Best random state with lowest RMSE: 24\n",
      "Min RMSE: 0.13566493000013932\n",
      "Mean RMSE: 0.16737690411843864\n",
      "\n",
      "Best random state with highest r2: 24\n",
      "Max R2: 0.9915242737021744\n",
      "Mean R2: 0.9864696215805844\n",
      "\n",
      "Testing set scores ##########################################################################\n",
      "Best random state with lowest RMSE: 43\n",
      "Min RMSE: 0.5537012875916546\n",
      "Mean RMSE: 0.5878171070025864\n",
      "\n",
      "Best random state with highest r2: 11\n",
      "Max R2: 0.8496641733930128\n",
      "Mean R2: 0.8346705119201421\n"
     ]
    }
   ],
   "source": [
    "# 20:80 split\n",
    "MCCV_scores(0.8)"
   ]
  },
  {
   "cell_type": "code",
   "execution_count": 9,
   "metadata": {},
   "outputs": [
    {
     "name": "stdout",
     "output_type": "stream",
     "text": [
      "Runtime: 61.96960091590881 s\n",
      "\n",
      "MCCV aggregation results ###############################################################\n",
      "\n",
      "Training set scores #########################################################################\n",
      "Best random state with lowest RMSE: 1\n",
      "Min RMSE: 0.15704854116021041\n",
      "Mean RMSE: 0.17623104026317202\n",
      "\n",
      "Best random state with highest r2: 1\n",
      "Max R2: 0.988491011960953\n",
      "Mean R2: 0.9850431202079575\n",
      "\n",
      "Testing set scores ##########################################################################\n",
      "Best random state with lowest RMSE: 33\n",
      "Min RMSE: 0.5110446397647029\n",
      "Mean RMSE: 0.549465265587994\n",
      "\n",
      "Best random state with highest r2: 33\n",
      "Max R2: 0.8744140163807679\n",
      "Mean R2: 0.8556829701007718\n"
     ]
    }
   ],
   "source": [
    "# 30:70 split\n",
    "MCCV_scores(0.7)"
   ]
  },
  {
   "cell_type": "code",
   "execution_count": 10,
   "metadata": {},
   "outputs": [
    {
     "name": "stdout",
     "output_type": "stream",
     "text": [
      "Runtime: 64.67854356765747 s\n",
      "\n",
      "MCCV aggregation results ###############################################################\n",
      "\n",
      "Training set scores #########################################################################\n",
      "Best random state with lowest RMSE: 22\n",
      "Min RMSE: 0.1682876668472464\n",
      "Mean RMSE: 0.1895469044516064\n",
      "\n",
      "Best random state with highest r2: 1\n",
      "Max R2: 0.985986310950362\n",
      "Mean R2: 0.9827022505440516\n",
      "\n",
      "Testing set scores ##########################################################################\n",
      "Best random state with lowest RMSE: 43\n",
      "Min RMSE: 0.494742496072873\n",
      "Mean RMSE: 0.5218384083292849\n",
      "\n",
      "Best random state with highest r2: 43\n",
      "Max R2: 0.8825781017741147\n",
      "Mean R2: 0.8700056997436338\n"
     ]
    }
   ],
   "source": [
    "# 40:60 split\n",
    "MCCV_scores(0.6)"
   ]
  },
  {
   "cell_type": "code",
   "execution_count": 11,
   "metadata": {},
   "outputs": [
    {
     "name": "stdout",
     "output_type": "stream",
     "text": [
      "Runtime: 65.27960014343262 s\n",
      "\n",
      "MCCV aggregation results ###############################################################\n",
      "\n",
      "Training set scores #########################################################################\n",
      "Best random state with lowest RMSE: 27\n",
      "Min RMSE: 0.1911196751059381\n",
      "Mean RMSE: 0.2026755998238081\n",
      "\n",
      "Best random state with highest r2: 27\n",
      "Max R2: 0.982059787021122\n",
      "Mean R2: 0.9802254389938723\n",
      "\n",
      "Testing set scores ##########################################################################\n",
      "Best random state with lowest RMSE: 43\n",
      "Min RMSE: 0.46651973116748663\n",
      "Mean RMSE: 0.5049458351274374\n",
      "\n",
      "Best random state with highest r2: 43\n",
      "Max R2: 0.8940936478203195\n",
      "Mean R2: 0.8785130102438746\n"
     ]
    }
   ],
   "source": [
    "# 50:50 split\n",
    "MCCV_scores(0.5)"
   ]
  },
  {
   "cell_type": "code",
   "execution_count": 12,
   "metadata": {},
   "outputs": [
    {
     "name": "stdout",
     "output_type": "stream",
     "text": [
      "Runtime: 71.37469220161438 s\n",
      "\n",
      "MCCV aggregation results ###############################################################\n",
      "\n",
      "Training set scores #########################################################################\n",
      "Best random state with lowest RMSE: 1\n",
      "Min RMSE: 0.20006786166778312\n",
      "Mean RMSE: 0.21188877276882223\n",
      "\n",
      "Best random state with highest r2: 1\n",
      "Max R2: 0.981049354711487\n",
      "Mean R2: 0.9784302499759377\n",
      "\n",
      "Testing set scores ##########################################################################\n",
      "Best random state with lowest RMSE: 7\n",
      "Min RMSE: 0.4354162003762759\n",
      "Mean RMSE: 0.4869327077889779\n",
      "\n",
      "Best random state with highest r2: 7\n",
      "Max R2: 0.9078012029052973\n",
      "Mean R2: 0.8869672091790097\n"
     ]
    }
   ],
   "source": [
    "# 60:40 split\n",
    "MCCV_scores(0.4)"
   ]
  },
  {
   "cell_type": "code",
   "execution_count": 13,
   "metadata": {},
   "outputs": [
    {
     "name": "stdout",
     "output_type": "stream",
     "text": [
      "Runtime: 71.81651973724365 s\n",
      "\n",
      "MCCV aggregation results ###############################################################\n",
      "\n",
      "Training set scores #########################################################################\n",
      "Best random state with lowest RMSE: 27\n",
      "Min RMSE: 0.2115031562750035\n",
      "Mean RMSE: 0.22207463762008955\n",
      "\n",
      "Best random state with highest r2: 27\n",
      "Max R2: 0.9782743322110415\n",
      "Mean R2: 0.9763432495601747\n",
      "\n",
      "Testing set scores ##########################################################################\n",
      "Best random state with lowest RMSE: 7\n",
      "Min RMSE: 0.41491083483385377\n",
      "Mean RMSE: 0.4768835381349199\n",
      "\n",
      "Best random state with highest r2: 7\n",
      "Max R2: 0.9146644649310318\n",
      "Mean R2: 0.8915112520210563\n"
     ]
    }
   ],
   "source": [
    "# 70:30 split\n",
    "MCCV_scores(0.3)"
   ]
  },
  {
   "cell_type": "code",
   "execution_count": 14,
   "metadata": {},
   "outputs": [
    {
     "name": "stdout",
     "output_type": "stream",
     "text": [
      "Runtime: 72.69326329231262 s\n",
      "\n",
      "MCCV aggregation results ###############################################################\n",
      "\n",
      "Training set scores #########################################################################\n",
      "Best random state with lowest RMSE: 27\n",
      "Min RMSE: 0.22258128233212077\n",
      "Mean RMSE: 0.22962904474515294\n",
      "\n",
      "Best random state with highest r2: 27\n",
      "Max R2: 0.9759681927656504\n",
      "Mean R2: 0.9747328818732822\n",
      "\n",
      "Testing set scores ##########################################################################\n",
      "Best random state with lowest RMSE: 7\n",
      "Min RMSE: 0.40809220969436377\n",
      "Mean RMSE: 0.46690312706877746\n",
      "\n",
      "Best random state with highest r2: 7\n",
      "Max R2: 0.9196825826706232\n",
      "Mean R2: 0.8958055200403375\n"
     ]
    }
   ],
   "source": [
    "# 80:20 split\n",
    "MCCV_scores(0.2)"
   ]
  },
  {
   "cell_type": "code",
   "execution_count": 15,
   "metadata": {},
   "outputs": [
    {
     "name": "stdout",
     "output_type": "stream",
     "text": [
      "Runtime: 73.7156138420105 s\n",
      "\n",
      "MCCV aggregation results ###############################################################\n",
      "\n",
      "Training set scores #########################################################################\n",
      "Best random state with lowest RMSE: 27\n",
      "Min RMSE: 0.22947084952175004\n",
      "Mean RMSE: 0.23674677145497738\n",
      "\n",
      "Best random state with highest r2: 27\n",
      "Max R2: 0.9745931297742445\n",
      "Mean R2: 0.9731767368600528\n",
      "\n",
      "Testing set scores ##########################################################################\n",
      "Best random state with lowest RMSE: 23\n",
      "Min RMSE: 0.40255659454380704\n",
      "Mean RMSE: 0.4541223775250471\n",
      "\n",
      "Best random state with highest r2: 15\n",
      "Max R2: 0.921382785105989\n",
      "Mean R2: 0.9008139618643811\n"
     ]
    }
   ],
   "source": [
    "# 90:10 split\n",
    "MCCV_scores(0.1)"
   ]
  },
  {
   "cell_type": "code",
   "execution_count": 16,
   "metadata": {},
   "outputs": [
    {
     "name": "stdout",
     "output_type": "stream",
     "text": [
      "Runtime: 75.14671277999878 s\n",
      "\n",
      "MCCV aggregation results ###############################################################\n",
      "\n",
      "Training set scores #########################################################################\n",
      "Best random state with lowest RMSE: 17\n",
      "Min RMSE: 0.23546089981279641\n",
      "Mean RMSE: 0.23908051530980512\n",
      "\n",
      "Best random state with highest r2: 41\n",
      "Max R2: 0.9735492825667182\n",
      "Mean R2: 0.9726632706415779\n",
      "\n",
      "Testing set scores ##########################################################################\n",
      "Best random state with lowest RMSE: 31\n",
      "Min RMSE: 0.3409982736373269\n",
      "Mean RMSE: 0.44577332377256346\n",
      "\n",
      "Best random state with highest r2: 47\n",
      "Max R2: 0.9419952840085003\n",
      "Mean R2: 0.9026957003421093\n"
     ]
    }
   ],
   "source": [
    "# 95:5 split\n",
    "MCCV_scores(0.05)"
   ]
  }
 ],
 "metadata": {
  "accelerator": "GPU",
  "colab": {
   "collapsed_sections": [],
   "name": "Bandgap4209_3b_Stacking_MCCV_v2.ipynb",
   "provenance": [
    {
     "file_id": "1yYDoadeNJZeEUu9y_kxY1nb3T7jj8fUO",
     "timestamp": 1641535013275
    },
    {
     "file_id": "1xw1Li5u_UT6ZpJgY8illqIAeP4bu8zPs",
     "timestamp": 1641181754788
    },
    {
     "file_id": "1eAmHcZmUcTQkcQP06F7EyMw6e8dPgcFb",
     "timestamp": 1641128919426
    },
    {
     "file_id": "1-kfiz_dnleF9nKTPKzyHt1-AnJsvj3y1",
     "timestamp": 1641125714884
    },
    {
     "file_id": "12K7e_lsgKsE0DKKTr72ZuRq0DxDEFJ8F",
     "timestamp": 1640868703715
    }
   ]
  },
  "kernelspec": {
   "display_name": "Python 3",
   "language": "python",
   "name": "python3"
  },
  "language_info": {
   "codemirror_mode": {
    "name": "ipython",
    "version": 3
   },
   "file_extension": ".py",
   "mimetype": "text/x-python",
   "name": "python",
   "nbconvert_exporter": "python",
   "pygments_lexer": "ipython3",
   "version": "3.8.8"
  }
 },
 "nbformat": 4,
 "nbformat_minor": 1
}
